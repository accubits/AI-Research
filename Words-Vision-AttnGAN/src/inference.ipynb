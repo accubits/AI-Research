{
 "cells": [
  {
   "cell_type": "code",
   "execution_count": 1,
   "metadata": {},
   "outputs": [
    {
     "name": "stderr",
     "output_type": "stream",
     "text": [
      "/home/hanSolo/anaconda3/envs/pytorch/lib/python3.7/site-packages/ipykernel_launcher.py:2: DeprecationWarning: 'werkzeug.contrib.cache' is deprecated as of version 0.15 and will be removed in version 1.0. It has moved to https://github.com/pallets/cachelib.\n",
      "  \n"
     ]
    }
   ],
   "source": [
    "import pickle\n",
    "from werkzeug.contrib.cache import SimpleCache\n",
    "cache = SimpleCache()\n",
    "\n",
    "import torch\n",
    "import numpy as np\n",
    "from PIL import Image\n",
    "import torchvision.transforms as transforms\n",
    "from torch.autograd import Variable\n",
    "import cv2\n",
    "\n",
    "import model\n",
    "from model import RNN_ENCODER, G_NET, CNN_ENCODER, G_DCGAN, D_NET256\n",
    "from miscc.utils import weights_init\n",
    "from datasets import TextDataset, prepare_data\n",
    "from miscc.utils import build_super_images, build_super_images2"
   ]
  },
  {
   "cell_type": "code",
   "execution_count": 2,
   "metadata": {},
   "outputs": [
    {
     "name": "stderr",
     "output_type": "stream",
     "text": [
      "/home/hanSolo/anaconda3/envs/pytorch/lib/python3.7/site-packages/torch/nn/modules/rnn.py:60: UserWarning: dropout option adds dropout after all but last recurrent layer, so non-zero dropout expects num_layers greater than 1, but got dropout=0.5 and num_layers=1\n",
      "  \"num_layers={}\".format(dropout, num_layers))\n"
     ]
    },
    {
     "ename": "RuntimeError",
     "evalue": "Error(s) in loading state_dict for G_NET:\n\tUnexpected key(s) in state_dict: \"h_net2.residual.2.block.0.weight\", \"h_net2.residual.2.block.1.weight\", \"h_net2.residual.2.block.1.bias\", \"h_net2.residual.2.block.1.running_mean\", \"h_net2.residual.2.block.1.running_var\", \"h_net2.residual.2.block.3.weight\", \"h_net2.residual.2.block.4.weight\", \"h_net2.residual.2.block.4.bias\", \"h_net2.residual.2.block.4.running_mean\", \"h_net2.residual.2.block.4.running_var\", \"h_net3.residual.2.block.0.weight\", \"h_net3.residual.2.block.1.weight\", \"h_net3.residual.2.block.1.bias\", \"h_net3.residual.2.block.1.running_mean\", \"h_net3.residual.2.block.1.running_var\", \"h_net3.residual.2.block.3.weight\", \"h_net3.residual.2.block.4.weight\", \"h_net3.residual.2.block.4.bias\", \"h_net3.residual.2.block.4.running_mean\", \"h_net3.residual.2.block.4.running_var\". \n\tsize mismatch for h_net1.fc.0.weight: copying a param with shape torch.Size([24576, 200]) from checkpoint, the shape in current model is torch.Size([65536, 200]).\n\tsize mismatch for h_net1.fc.1.weight: copying a param with shape torch.Size([24576]) from checkpoint, the shape in current model is torch.Size([65536]).\n\tsize mismatch for h_net1.fc.1.bias: copying a param with shape torch.Size([24576]) from checkpoint, the shape in current model is torch.Size([65536]).\n\tsize mismatch for h_net1.fc.1.running_mean: copying a param with shape torch.Size([24576]) from checkpoint, the shape in current model is torch.Size([65536]).\n\tsize mismatch for h_net1.fc.1.running_var: copying a param with shape torch.Size([24576]) from checkpoint, the shape in current model is torch.Size([65536]).\n\tsize mismatch for h_net1.upsample1.1.weight: copying a param with shape torch.Size([768, 768, 3, 3]) from checkpoint, the shape in current model is torch.Size([2048, 2048, 3, 3]).\n\tsize mismatch for h_net1.upsample1.2.weight: copying a param with shape torch.Size([768]) from checkpoint, the shape in current model is torch.Size([2048]).\n\tsize mismatch for h_net1.upsample1.2.bias: copying a param with shape torch.Size([768]) from checkpoint, the shape in current model is torch.Size([2048]).\n\tsize mismatch for h_net1.upsample1.2.running_mean: copying a param with shape torch.Size([768]) from checkpoint, the shape in current model is torch.Size([2048]).\n\tsize mismatch for h_net1.upsample1.2.running_var: copying a param with shape torch.Size([768]) from checkpoint, the shape in current model is torch.Size([2048]).\n\tsize mismatch for h_net1.upsample2.1.weight: copying a param with shape torch.Size([384, 384, 3, 3]) from checkpoint, the shape in current model is torch.Size([1024, 1024, 3, 3]).\n\tsize mismatch for h_net1.upsample2.2.weight: copying a param with shape torch.Size([384]) from checkpoint, the shape in current model is torch.Size([1024]).\n\tsize mismatch for h_net1.upsample2.2.bias: copying a param with shape torch.Size([384]) from checkpoint, the shape in current model is torch.Size([1024]).\n\tsize mismatch for h_net1.upsample2.2.running_mean: copying a param with shape torch.Size([384]) from checkpoint, the shape in current model is torch.Size([1024]).\n\tsize mismatch for h_net1.upsample2.2.running_var: copying a param with shape torch.Size([384]) from checkpoint, the shape in current model is torch.Size([1024]).\n\tsize mismatch for h_net1.upsample3.1.weight: copying a param with shape torch.Size([192, 192, 3, 3]) from checkpoint, the shape in current model is torch.Size([512, 512, 3, 3]).\n\tsize mismatch for h_net1.upsample3.2.weight: copying a param with shape torch.Size([192]) from checkpoint, the shape in current model is torch.Size([512]).\n\tsize mismatch for h_net1.upsample3.2.bias: copying a param with shape torch.Size([192]) from checkpoint, the shape in current model is torch.Size([512]).\n\tsize mismatch for h_net1.upsample3.2.running_mean: copying a param with shape torch.Size([192]) from checkpoint, the shape in current model is torch.Size([512]).\n\tsize mismatch for h_net1.upsample3.2.running_var: copying a param with shape torch.Size([192]) from checkpoint, the shape in current model is torch.Size([512]).\n\tsize mismatch for h_net1.upsample4.1.weight: copying a param with shape torch.Size([96, 96, 3, 3]) from checkpoint, the shape in current model is torch.Size([256, 256, 3, 3]).\n\tsize mismatch for h_net1.upsample4.2.weight: copying a param with shape torch.Size([96]) from checkpoint, the shape in current model is torch.Size([256]).\n\tsize mismatch for h_net1.upsample4.2.bias: copying a param with shape torch.Size([96]) from checkpoint, the shape in current model is torch.Size([256]).\n\tsize mismatch for h_net1.upsample4.2.running_mean: copying a param with shape torch.Size([96]) from checkpoint, the shape in current model is torch.Size([256]).\n\tsize mismatch for h_net1.upsample4.2.running_var: copying a param with shape torch.Size([96]) from checkpoint, the shape in current model is torch.Size([256]).\n\tsize mismatch for img_net1.img.0.weight: copying a param with shape torch.Size([3, 48, 3, 3]) from checkpoint, the shape in current model is torch.Size([3, 128, 3, 3]).\n\tsize mismatch for h_net2.att.conv_context.weight: copying a param with shape torch.Size([48, 256, 1, 1]) from checkpoint, the shape in current model is torch.Size([128, 256, 1, 1]).\n\tsize mismatch for h_net2.residual.0.block.0.weight: copying a param with shape torch.Size([192, 96, 3, 3]) from checkpoint, the shape in current model is torch.Size([512, 256, 3, 3]).\n\tsize mismatch for h_net2.residual.0.block.1.weight: copying a param with shape torch.Size([192]) from checkpoint, the shape in current model is torch.Size([512]).\n\tsize mismatch for h_net2.residual.0.block.1.bias: copying a param with shape torch.Size([192]) from checkpoint, the shape in current model is torch.Size([512]).\n\tsize mismatch for h_net2.residual.0.block.1.running_mean: copying a param with shape torch.Size([192]) from checkpoint, the shape in current model is torch.Size([512]).\n\tsize mismatch for h_net2.residual.0.block.1.running_var: copying a param with shape torch.Size([192]) from checkpoint, the shape in current model is torch.Size([512]).\n\tsize mismatch for h_net2.residual.0.block.3.weight: copying a param with shape torch.Size([96, 96, 3, 3]) from checkpoint, the shape in current model is torch.Size([256, 256, 3, 3]).\n\tsize mismatch for h_net2.residual.0.block.4.weight: copying a param with shape torch.Size([96]) from checkpoint, the shape in current model is torch.Size([256]).\n\tsize mismatch for h_net2.residual.0.block.4.bias: copying a param with shape torch.Size([96]) from checkpoint, the shape in current model is torch.Size([256]).\n\tsize mismatch for h_net2.residual.0.block.4.running_mean: copying a param with shape torch.Size([96]) from checkpoint, the shape in current model is torch.Size([256]).\n\tsize mismatch for h_net2.residual.0.block.4.running_var: copying a param with shape torch.Size([96]) from checkpoint, the shape in current model is torch.Size([256]).\n\tsize mismatch for h_net2.residual.1.block.0.weight: copying a param with shape torch.Size([192, 96, 3, 3]) from checkpoint, the shape in current model is torch.Size([512, 256, 3, 3]).\n\tsize mismatch for h_net2.residual.1.block.1.weight: copying a param with shape torch.Size([192]) from checkpoint, the shape in current model is torch.Size([512]).\n\tsize mismatch for h_net2.residual.1.block.1.bias: copying a param with shape torch.Size([192]) from checkpoint, the shape in current model is torch.Size([512]).\n\tsize mismatch for h_net2.residual.1.block.1.running_mean: copying a param with shape torch.Size([192]) from checkpoint, the shape in current model is torch.Size([512]).\n\tsize mismatch for h_net2.residual.1.block.1.running_var: copying a param with shape torch.Size([192]) from checkpoint, the shape in current model is torch.Size([512]).\n\tsize mismatch for h_net2.residual.1.block.3.weight: copying a param with shape torch.Size([96, 96, 3, 3]) from checkpoint, the shape in current model is torch.Size([256, 256, 3, 3]).\n\tsize mismatch for h_net2.residual.1.block.4.weight: copying a param with shape torch.Size([96]) from checkpoint, the shape in current model is torch.Size([256]).\n\tsize mismatch for h_net2.residual.1.block.4.bias: copying a param with shape torch.Size([96]) from checkpoint, the shape in current model is torch.Size([256]).\n\tsize mismatch for h_net2.residual.1.block.4.running_mean: copying a param with shape torch.Size([96]) from checkpoint, the shape in current model is torch.Size([256]).\n\tsize mismatch for h_net2.residual.1.block.4.running_var: copying a param with shape torch.Size([96]) from checkpoint, the shape in current model is torch.Size([256]).\n\tsize mismatch for h_net2.upsample.1.weight: copying a param with shape torch.Size([96, 96, 3, 3]) from checkpoint, the shape in current model is torch.Size([256, 256, 3, 3]).\n\tsize mismatch for h_net2.upsample.2.weight: copying a param with shape torch.Size([96]) from checkpoint, the shape in current model is torch.Size([256]).\n\tsize mismatch for h_net2.upsample.2.bias: copying a param with shape torch.Size([96]) from checkpoint, the shape in current model is torch.Size([256]).\n\tsize mismatch for h_net2.upsample.2.running_mean: copying a param with shape torch.Size([96]) from checkpoint, the shape in current model is torch.Size([256]).\n\tsize mismatch for h_net2.upsample.2.running_var: copying a param with shape torch.Size([96]) from checkpoint, the shape in current model is torch.Size([256]).\n\tsize mismatch for img_net2.img.0.weight: copying a param with shape torch.Size([3, 48, 3, 3]) from checkpoint, the shape in current model is torch.Size([3, 128, 3, 3]).\n\tsize mismatch for h_net3.att.conv_context.weight: copying a param with shape torch.Size([48, 256, 1, 1]) from checkpoint, the shape in current model is torch.Size([128, 256, 1, 1]).\n\tsize mismatch for h_net3.residual.0.block.0.weight: copying a param with shape torch.Size([192, 96, 3, 3]) from checkpoint, the shape in current model is torch.Size([512, 256, 3, 3]).\n\tsize mismatch for h_net3.residual.0.block.1.weight: copying a param with shape torch.Size([192]) from checkpoint, the shape in current model is torch.Size([512]).\n\tsize mismatch for h_net3.residual.0.block.1.bias: copying a param with shape torch.Size([192]) from checkpoint, the shape in current model is torch.Size([512]).\n\tsize mismatch for h_net3.residual.0.block.1.running_mean: copying a param with shape torch.Size([192]) from checkpoint, the shape in current model is torch.Size([512]).\n\tsize mismatch for h_net3.residual.0.block.1.running_var: copying a param with shape torch.Size([192]) from checkpoint, the shape in current model is torch.Size([512]).\n\tsize mismatch for h_net3.residual.0.block.3.weight: copying a param with shape torch.Size([96, 96, 3, 3]) from checkpoint, the shape in current model is torch.Size([256, 256, 3, 3]).\n\tsize mismatch for h_net3.residual.0.block.4.weight: copying a param with shape torch.Size([96]) from checkpoint, the shape in current model is torch.Size([256]).\n\tsize mismatch for h_net3.residual.0.block.4.bias: copying a param with shape torch.Size([96]) from checkpoint, the shape in current model is torch.Size([256]).\n\tsize mismatch for h_net3.residual.0.block.4.running_mean: copying a param with shape torch.Size([96]) from checkpoint, the shape in current model is torch.Size([256]).\n\tsize mismatch for h_net3.residual.0.block.4.running_var: copying a param with shape torch.Size([96]) from checkpoint, the shape in current model is torch.Size([256]).\n\tsize mismatch for h_net3.residual.1.block.0.weight: copying a param with shape torch.Size([192, 96, 3, 3]) from checkpoint, the shape in current model is torch.Size([512, 256, 3, 3]).\n\tsize mismatch for h_net3.residual.1.block.1.weight: copying a param with shape torch.Size([192]) from checkpoint, the shape in current model is torch.Size([512]).\n\tsize mismatch for h_net3.residual.1.block.1.bias: copying a param with shape torch.Size([192]) from checkpoint, the shape in current model is torch.Size([512]).\n\tsize mismatch for h_net3.residual.1.block.1.running_mean: copying a param with shape torch.Size([192]) from checkpoint, the shape in current model is torch.Size([512]).\n\tsize mismatch for h_net3.residual.1.block.1.running_var: copying a param with shape torch.Size([192]) from checkpoint, the shape in current model is torch.Size([512]).\n\tsize mismatch for h_net3.residual.1.block.3.weight: copying a param with shape torch.Size([96, 96, 3, 3]) from checkpoint, the shape in current model is torch.Size([256, 256, 3, 3]).\n\tsize mismatch for h_net3.residual.1.block.4.weight: copying a param with shape torch.Size([96]) from checkpoint, the shape in current model is torch.Size([256]).\n\tsize mismatch for h_net3.residual.1.block.4.bias: copying a param with shape torch.Size([96]) from checkpoint, the shape in current model is torch.Size([256]).\n\tsize mismatch for h_net3.residual.1.block.4.running_mean: copying a param with shape torch.Size([96]) from checkpoint, the shape in current model is torch.Size([256]).\n\tsize mismatch for h_net3.residual.1.block.4.running_var: copying a param with shape torch.Size([96]) from checkpoint, the shape in current model is torch.Size([256]).\n\tsize mismatch for h_net3.upsample.1.weight: copying a param with shape torch.Size([96, 96, 3, 3]) from checkpoint, the shape in current model is torch.Size([256, 256, 3, 3]).\n\tsize mismatch for h_net3.upsample.2.weight: copying a param with shape torch.Size([96]) from checkpoint, the shape in current model is torch.Size([256]).\n\tsize mismatch for h_net3.upsample.2.bias: copying a param with shape torch.Size([96]) from checkpoint, the shape in current model is torch.Size([256]).\n\tsize mismatch for h_net3.upsample.2.running_mean: copying a param with shape torch.Size([96]) from checkpoint, the shape in current model is torch.Size([256]).\n\tsize mismatch for h_net3.upsample.2.running_var: copying a param with shape torch.Size([96]) from checkpoint, the shape in current model is torch.Size([256]).\n\tsize mismatch for img_net3.img.0.weight: copying a param with shape torch.Size([3, 48, 3, 3]) from checkpoint, the shape in current model is torch.Size([3, 128, 3, 3]).",
     "output_type": "error",
     "traceback": [
      "\u001b[0;31m---------------------------------------------------------------------------\u001b[0m",
      "\u001b[0;31mRuntimeError\u001b[0m                              Traceback (most recent call last)",
      "\u001b[0;32m<ipython-input-2-7559ff158c58>\u001b[0m in \u001b[0;36m<module>\u001b[0;34m\u001b[0m\n\u001b[1;32m     13\u001b[0m \u001b[0mstate_dict\u001b[0m \u001b[0;34m=\u001b[0m\u001b[0;31m \u001b[0m\u001b[0;31m\\\u001b[0m\u001b[0;34m\u001b[0m\u001b[0;34m\u001b[0m\u001b[0m\n\u001b[1;32m     14\u001b[0m     \u001b[0mtorch\u001b[0m\u001b[0;34m.\u001b[0m\u001b[0mload\u001b[0m\u001b[0;34m(\u001b[0m\u001b[0;34m'../models/coco_AttnGAN2.pth'\u001b[0m\u001b[0;34m,\u001b[0m \u001b[0mmap_location\u001b[0m\u001b[0;34m=\u001b[0m\u001b[0;32mlambda\u001b[0m \u001b[0mstorage\u001b[0m\u001b[0;34m,\u001b[0m \u001b[0mloc\u001b[0m\u001b[0;34m:\u001b[0m \u001b[0mstorage\u001b[0m\u001b[0;34m)\u001b[0m\u001b[0;34m\u001b[0m\u001b[0;34m\u001b[0m\u001b[0m\n\u001b[0;32m---> 15\u001b[0;31m \u001b[0mnetG\u001b[0m\u001b[0;34m.\u001b[0m\u001b[0mload_state_dict\u001b[0m\u001b[0;34m(\u001b[0m\u001b[0mstate_dict\u001b[0m\u001b[0;34m)\u001b[0m\u001b[0;34m\u001b[0m\u001b[0;34m\u001b[0m\u001b[0m\n\u001b[0m",
      "\u001b[0;32m~/anaconda3/envs/pytorch/lib/python3.7/site-packages/torch/nn/modules/module.py\u001b[0m in \u001b[0;36mload_state_dict\u001b[0;34m(self, state_dict, strict)\u001b[0m\n\u001b[1;32m   1043\u001b[0m         \u001b[0;32mif\u001b[0m \u001b[0mlen\u001b[0m\u001b[0;34m(\u001b[0m\u001b[0merror_msgs\u001b[0m\u001b[0;34m)\u001b[0m \u001b[0;34m>\u001b[0m \u001b[0;36m0\u001b[0m\u001b[0;34m:\u001b[0m\u001b[0;34m\u001b[0m\u001b[0;34m\u001b[0m\u001b[0m\n\u001b[1;32m   1044\u001b[0m             raise RuntimeError('Error(s) in loading state_dict for {}:\\n\\t{}'.format(\n\u001b[0;32m-> 1045\u001b[0;31m                                self.__class__.__name__, \"\\n\\t\".join(error_msgs)))\n\u001b[0m\u001b[1;32m   1046\u001b[0m         \u001b[0;32mreturn\u001b[0m \u001b[0m_IncompatibleKeys\u001b[0m\u001b[0;34m(\u001b[0m\u001b[0mmissing_keys\u001b[0m\u001b[0;34m,\u001b[0m \u001b[0munexpected_keys\u001b[0m\u001b[0;34m)\u001b[0m\u001b[0;34m\u001b[0m\u001b[0;34m\u001b[0m\u001b[0m\n\u001b[1;32m   1047\u001b[0m \u001b[0;34m\u001b[0m\u001b[0m\n",
      "\u001b[0;31mRuntimeError\u001b[0m: Error(s) in loading state_dict for G_NET:\n\tUnexpected key(s) in state_dict: \"h_net2.residual.2.block.0.weight\", \"h_net2.residual.2.block.1.weight\", \"h_net2.residual.2.block.1.bias\", \"h_net2.residual.2.block.1.running_mean\", \"h_net2.residual.2.block.1.running_var\", \"h_net2.residual.2.block.3.weight\", \"h_net2.residual.2.block.4.weight\", \"h_net2.residual.2.block.4.bias\", \"h_net2.residual.2.block.4.running_mean\", \"h_net2.residual.2.block.4.running_var\", \"h_net3.residual.2.block.0.weight\", \"h_net3.residual.2.block.1.weight\", \"h_net3.residual.2.block.1.bias\", \"h_net3.residual.2.block.1.running_mean\", \"h_net3.residual.2.block.1.running_var\", \"h_net3.residual.2.block.3.weight\", \"h_net3.residual.2.block.4.weight\", \"h_net3.residual.2.block.4.bias\", \"h_net3.residual.2.block.4.running_mean\", \"h_net3.residual.2.block.4.running_var\". \n\tsize mismatch for h_net1.fc.0.weight: copying a param with shape torch.Size([24576, 200]) from checkpoint, the shape in current model is torch.Size([65536, 200]).\n\tsize mismatch for h_net1.fc.1.weight: copying a param with shape torch.Size([24576]) from checkpoint, the shape in current model is torch.Size([65536]).\n\tsize mismatch for h_net1.fc.1.bias: copying a param with shape torch.Size([24576]) from checkpoint, the shape in current model is torch.Size([65536]).\n\tsize mismatch for h_net1.fc.1.running_mean: copying a param with shape torch.Size([24576]) from checkpoint, the shape in current model is torch.Size([65536]).\n\tsize mismatch for h_net1.fc.1.running_var: copying a param with shape torch.Size([24576]) from checkpoint, the shape in current model is torch.Size([65536]).\n\tsize mismatch for h_net1.upsample1.1.weight: copying a param with shape torch.Size([768, 768, 3, 3]) from checkpoint, the shape in current model is torch.Size([2048, 2048, 3, 3]).\n\tsize mismatch for h_net1.upsample1.2.weight: copying a param with shape torch.Size([768]) from checkpoint, the shape in current model is torch.Size([2048]).\n\tsize mismatch for h_net1.upsample1.2.bias: copying a param with shape torch.Size([768]) from checkpoint, the shape in current model is torch.Size([2048]).\n\tsize mismatch for h_net1.upsample1.2.running_mean: copying a param with shape torch.Size([768]) from checkpoint, the shape in current model is torch.Size([2048]).\n\tsize mismatch for h_net1.upsample1.2.running_var: copying a param with shape torch.Size([768]) from checkpoint, the shape in current model is torch.Size([2048]).\n\tsize mismatch for h_net1.upsample2.1.weight: copying a param with shape torch.Size([384, 384, 3, 3]) from checkpoint, the shape in current model is torch.Size([1024, 1024, 3, 3]).\n\tsize mismatch for h_net1.upsample2.2.weight: copying a param with shape torch.Size([384]) from checkpoint, the shape in current model is torch.Size([1024]).\n\tsize mismatch for h_net1.upsample2.2.bias: copying a param with shape torch.Size([384]) from checkpoint, the shape in current model is torch.Size([1024]).\n\tsize mismatch for h_net1.upsample2.2.running_mean: copying a param with shape torch.Size([384]) from checkpoint, the shape in current model is torch.Size([1024]).\n\tsize mismatch for h_net1.upsample2.2.running_var: copying a param with shape torch.Size([384]) from checkpoint, the shape in current model is torch.Size([1024]).\n\tsize mismatch for h_net1.upsample3.1.weight: copying a param with shape torch.Size([192, 192, 3, 3]) from checkpoint, the shape in current model is torch.Size([512, 512, 3, 3]).\n\tsize mismatch for h_net1.upsample3.2.weight: copying a param with shape torch.Size([192]) from checkpoint, the shape in current model is torch.Size([512]).\n\tsize mismatch for h_net1.upsample3.2.bias: copying a param with shape torch.Size([192]) from checkpoint, the shape in current model is torch.Size([512]).\n\tsize mismatch for h_net1.upsample3.2.running_mean: copying a param with shape torch.Size([192]) from checkpoint, the shape in current model is torch.Size([512]).\n\tsize mismatch for h_net1.upsample3.2.running_var: copying a param with shape torch.Size([192]) from checkpoint, the shape in current model is torch.Size([512]).\n\tsize mismatch for h_net1.upsample4.1.weight: copying a param with shape torch.Size([96, 96, 3, 3]) from checkpoint, the shape in current model is torch.Size([256, 256, 3, 3]).\n\tsize mismatch for h_net1.upsample4.2.weight: copying a param with shape torch.Size([96]) from checkpoint, the shape in current model is torch.Size([256]).\n\tsize mismatch for h_net1.upsample4.2.bias: copying a param with shape torch.Size([96]) from checkpoint, the shape in current model is torch.Size([256]).\n\tsize mismatch for h_net1.upsample4.2.running_mean: copying a param with shape torch.Size([96]) from checkpoint, the shape in current model is torch.Size([256]).\n\tsize mismatch for h_net1.upsample4.2.running_var: copying a param with shape torch.Size([96]) from checkpoint, the shape in current model is torch.Size([256]).\n\tsize mismatch for img_net1.img.0.weight: copying a param with shape torch.Size([3, 48, 3, 3]) from checkpoint, the shape in current model is torch.Size([3, 128, 3, 3]).\n\tsize mismatch for h_net2.att.conv_context.weight: copying a param with shape torch.Size([48, 256, 1, 1]) from checkpoint, the shape in current model is torch.Size([128, 256, 1, 1]).\n\tsize mismatch for h_net2.residual.0.block.0.weight: copying a param with shape torch.Size([192, 96, 3, 3]) from checkpoint, the shape in current model is torch.Size([512, 256, 3, 3]).\n\tsize mismatch for h_net2.residual.0.block.1.weight: copying a param with shape torch.Size([192]) from checkpoint, the shape in current model is torch.Size([512]).\n\tsize mismatch for h_net2.residual.0.block.1.bias: copying a param with shape torch.Size([192]) from checkpoint, the shape in current model is torch.Size([512]).\n\tsize mismatch for h_net2.residual.0.block.1.running_mean: copying a param with shape torch.Size([192]) from checkpoint, the shape in current model is torch.Size([512]).\n\tsize mismatch for h_net2.residual.0.block.1.running_var: copying a param with shape torch.Size([192]) from checkpoint, the shape in current model is torch.Size([512]).\n\tsize mismatch for h_net2.residual.0.block.3.weight: copying a param with shape torch.Size([96, 96, 3, 3]) from checkpoint, the shape in current model is torch.Size([256, 256, 3, 3]).\n\tsize mismatch for h_net2.residual.0.block.4.weight: copying a param with shape torch.Size([96]) from checkpoint, the shape in current model is torch.Size([256]).\n\tsize mismatch for h_net2.residual.0.block.4.bias: copying a param with shape torch.Size([96]) from checkpoint, the shape in current model is torch.Size([256]).\n\tsize mismatch for h_net2.residual.0.block.4.running_mean: copying a param with shape torch.Size([96]) from checkpoint, the shape in current model is torch.Size([256]).\n\tsize mismatch for h_net2.residual.0.block.4.running_var: copying a param with shape torch.Size([96]) from checkpoint, the shape in current model is torch.Size([256]).\n\tsize mismatch for h_net2.residual.1.block.0.weight: copying a param with shape torch.Size([192, 96, 3, 3]) from checkpoint, the shape in current model is torch.Size([512, 256, 3, 3]).\n\tsize mismatch for h_net2.residual.1.block.1.weight: copying a param with shape torch.Size([192]) from checkpoint, the shape in current model is torch.Size([512]).\n\tsize mismatch for h_net2.residual.1.block.1.bias: copying a param with shape torch.Size([192]) from checkpoint, the shape in current model is torch.Size([512]).\n\tsize mismatch for h_net2.residual.1.block.1.running_mean: copying a param with shape torch.Size([192]) from checkpoint, the shape in current model is torch.Size([512]).\n\tsize mismatch for h_net2.residual.1.block.1.running_var: copying a param with shape torch.Size([192]) from checkpoint, the shape in current model is torch.Size([512]).\n\tsize mismatch for h_net2.residual.1.block.3.weight: copying a param with shape torch.Size([96, 96, 3, 3]) from checkpoint, the shape in current model is torch.Size([256, 256, 3, 3]).\n\tsize mismatch for h_net2.residual.1.block.4.weight: copying a param with shape torch.Size([96]) from checkpoint, the shape in current model is torch.Size([256]).\n\tsize mismatch for h_net2.residual.1.block.4.bias: copying a param with shape torch.Size([96]) from checkpoint, the shape in current model is torch.Size([256]).\n\tsize mismatch for h_net2.residual.1.block.4.running_mean: copying a param with shape torch.Size([96]) from checkpoint, the shape in current model is torch.Size([256]).\n\tsize mismatch for h_net2.residual.1.block.4.running_var: copying a param with shape torch.Size([96]) from checkpoint, the shape in current model is torch.Size([256]).\n\tsize mismatch for h_net2.upsample.1.weight: copying a param with shape torch.Size([96, 96, 3, 3]) from checkpoint, the shape in current model is torch.Size([256, 256, 3, 3]).\n\tsize mismatch for h_net2.upsample.2.weight: copying a param with shape torch.Size([96]) from checkpoint, the shape in current model is torch.Size([256]).\n\tsize mismatch for h_net2.upsample.2.bias: copying a param with shape torch.Size([96]) from checkpoint, the shape in current model is torch.Size([256]).\n\tsize mismatch for h_net2.upsample.2.running_mean: copying a param with shape torch.Size([96]) from checkpoint, the shape in current model is torch.Size([256]).\n\tsize mismatch for h_net2.upsample.2.running_var: copying a param with shape torch.Size([96]) from checkpoint, the shape in current model is torch.Size([256]).\n\tsize mismatch for img_net2.img.0.weight: copying a param with shape torch.Size([3, 48, 3, 3]) from checkpoint, the shape in current model is torch.Size([3, 128, 3, 3]).\n\tsize mismatch for h_net3.att.conv_context.weight: copying a param with shape torch.Size([48, 256, 1, 1]) from checkpoint, the shape in current model is torch.Size([128, 256, 1, 1]).\n\tsize mismatch for h_net3.residual.0.block.0.weight: copying a param with shape torch.Size([192, 96, 3, 3]) from checkpoint, the shape in current model is torch.Size([512, 256, 3, 3]).\n\tsize mismatch for h_net3.residual.0.block.1.weight: copying a param with shape torch.Size([192]) from checkpoint, the shape in current model is torch.Size([512]).\n\tsize mismatch for h_net3.residual.0.block.1.bias: copying a param with shape torch.Size([192]) from checkpoint, the shape in current model is torch.Size([512]).\n\tsize mismatch for h_net3.residual.0.block.1.running_mean: copying a param with shape torch.Size([192]) from checkpoint, the shape in current model is torch.Size([512]).\n\tsize mismatch for h_net3.residual.0.block.1.running_var: copying a param with shape torch.Size([192]) from checkpoint, the shape in current model is torch.Size([512]).\n\tsize mismatch for h_net3.residual.0.block.3.weight: copying a param with shape torch.Size([96, 96, 3, 3]) from checkpoint, the shape in current model is torch.Size([256, 256, 3, 3]).\n\tsize mismatch for h_net3.residual.0.block.4.weight: copying a param with shape torch.Size([96]) from checkpoint, the shape in current model is torch.Size([256]).\n\tsize mismatch for h_net3.residual.0.block.4.bias: copying a param with shape torch.Size([96]) from checkpoint, the shape in current model is torch.Size([256]).\n\tsize mismatch for h_net3.residual.0.block.4.running_mean: copying a param with shape torch.Size([96]) from checkpoint, the shape in current model is torch.Size([256]).\n\tsize mismatch for h_net3.residual.0.block.4.running_var: copying a param with shape torch.Size([96]) from checkpoint, the shape in current model is torch.Size([256]).\n\tsize mismatch for h_net3.residual.1.block.0.weight: copying a param with shape torch.Size([192, 96, 3, 3]) from checkpoint, the shape in current model is torch.Size([512, 256, 3, 3]).\n\tsize mismatch for h_net3.residual.1.block.1.weight: copying a param with shape torch.Size([192]) from checkpoint, the shape in current model is torch.Size([512]).\n\tsize mismatch for h_net3.residual.1.block.1.bias: copying a param with shape torch.Size([192]) from checkpoint, the shape in current model is torch.Size([512]).\n\tsize mismatch for h_net3.residual.1.block.1.running_mean: copying a param with shape torch.Size([192]) from checkpoint, the shape in current model is torch.Size([512]).\n\tsize mismatch for h_net3.residual.1.block.1.running_var: copying a param with shape torch.Size([192]) from checkpoint, the shape in current model is torch.Size([512]).\n\tsize mismatch for h_net3.residual.1.block.3.weight: copying a param with shape torch.Size([96, 96, 3, 3]) from checkpoint, the shape in current model is torch.Size([256, 256, 3, 3]).\n\tsize mismatch for h_net3.residual.1.block.4.weight: copying a param with shape torch.Size([96]) from checkpoint, the shape in current model is torch.Size([256]).\n\tsize mismatch for h_net3.residual.1.block.4.bias: copying a param with shape torch.Size([96]) from checkpoint, the shape in current model is torch.Size([256]).\n\tsize mismatch for h_net3.residual.1.block.4.running_mean: copying a param with shape torch.Size([96]) from checkpoint, the shape in current model is torch.Size([256]).\n\tsize mismatch for h_net3.residual.1.block.4.running_var: copying a param with shape torch.Size([96]) from checkpoint, the shape in current model is torch.Size([256]).\n\tsize mismatch for h_net3.upsample.1.weight: copying a param with shape torch.Size([96, 96, 3, 3]) from checkpoint, the shape in current model is torch.Size([256, 256, 3, 3]).\n\tsize mismatch for h_net3.upsample.2.weight: copying a param with shape torch.Size([96]) from checkpoint, the shape in current model is torch.Size([256]).\n\tsize mismatch for h_net3.upsample.2.bias: copying a param with shape torch.Size([96]) from checkpoint, the shape in current model is torch.Size([256]).\n\tsize mismatch for h_net3.upsample.2.running_mean: copying a param with shape torch.Size([96]) from checkpoint, the shape in current model is torch.Size([256]).\n\tsize mismatch for h_net3.upsample.2.running_var: copying a param with shape torch.Size([96]) from checkpoint, the shape in current model is torch.Size([256]).\n\tsize mismatch for img_net3.img.0.weight: copying a param with shape torch.Size([3, 48, 3, 3]) from checkpoint, the shape in current model is torch.Size([3, 128, 3, 3])."
     ]
    }
   ],
   "source": [
    "netG = G_NET()\n",
    "netG.apply(weights_init)\n",
    "netG.cuda()\n",
    "netG.eval()\n",
    "#\n",
    "text_encoder = RNN_ENCODER(27297, nhidden=256)\n",
    "state_dict = \\\n",
    "    torch.load('../DAMSMencoders/coco/text_encoder100.pth', map_location=lambda storage, loc: storage)\n",
    "text_encoder.load_state_dict(state_dict)\n",
    "text_encoder = text_encoder.cuda()\n",
    "text_encoder.eval()\n",
    "\n",
    "state_dict = \\\n",
    "    torch.load('../models/coco_AttnGAN2.pth', map_location=lambda storage, loc: storage)\n",
    "netG.load_state_dict(state_dict)"
   ]
  },
  {
   "cell_type": "code",
   "execution_count": null,
   "metadata": {},
   "outputs": [],
   "source": [
    "batch_size = 100"
   ]
  },
  {
   "cell_type": "code",
   "execution_count": null,
   "metadata": {},
   "outputs": [],
   "source": [
    "imsize = 64 * (2 ** (3 - 1))\n",
    "image_transform = transforms.Compose([\n",
    "    transforms.Resize(int(imsize * 76 / 64)),\n",
    "    transforms.RandomCrop(imsize),\n",
    "    transforms.RandomHorizontalFlip()])\n",
    "\n",
    "dataset = TextDataset('../data/coco/', 'test',\n",
    "                      base_size=64,\n",
    "                      transform=image_transform)\n",
    "assert dataset\n",
    "dataloader = torch.utils.data.DataLoader(\n",
    "    dataset, batch_size=batch_size,\n",
    "    drop_last=True, shuffle=True, num_workers=12)"
   ]
  },
  {
   "cell_type": "code",
   "execution_count": null,
   "metadata": {},
   "outputs": [],
   "source": [
    "wordtoix = dataset.wordtoix"
   ]
  },
  {
   "cell_type": "code",
   "execution_count": null,
   "metadata": {},
   "outputs": [],
   "source": [
    "def gen_img():\n",
    "    output=[]\n",
    "    '''generate images from example sentences'''\n",
    "    from nltk.tokenize import RegexpTokenizer\n",
    "    data_dic = {}\n",
    "\n",
    "\n",
    "    sentences = ['There is a sun in the middle of the sky']\n",
    "    # a list of indices for a sentence\n",
    "    captions = []\n",
    "    cap_lens = []\n",
    "    for sent in sentences:\n",
    "        if len(sent) == 0:\n",
    "            continue\n",
    "        sent = sent.replace(\"\\ufffd\\ufffd\", \" \")\n",
    "        tokenizer = RegexpTokenizer(r'\\w+')\n",
    "        tokens = tokenizer.tokenize(sent.lower())\n",
    "        if len(tokens) == 0:\n",
    "            print('sent', sent)\n",
    "            continue\n",
    "\n",
    "        rev = []\n",
    "        for t in tokens:\n",
    "            t = t.encode('ascii', 'ignore').decode('ascii')\n",
    "            if len(t) > 0 and t in wordtoix:\n",
    "                rev.append(wordtoix[t])\n",
    "        captions.append(rev)\n",
    "        cap_lens.append(len(rev))\n",
    "    max_len = np.max(cap_lens)\n",
    "\n",
    "    sorted_indices = np.argsort(cap_lens)[::-1]\n",
    "    cap_lens = np.asarray(cap_lens)\n",
    "    cap_lens = cap_lens[sorted_indices]\n",
    "    cap_array = np.zeros((len(captions), max_len), dtype='int64')\n",
    "    for i in range(len(captions)):\n",
    "        idx = sorted_indices[i]\n",
    "        cap = captions[idx]\n",
    "        c_len = len(cap)\n",
    "        cap_array[i, :c_len] = cap\n",
    "    data_dic[0] = [cap_array, cap_lens, sorted_indices]\n",
    "    for key in data_dic:\n",
    "        save_dir = 'op/'\n",
    "        captions, cap_lens, sorted_indices = data_dic[key]\n",
    "\n",
    "        batch_size = captions.shape[0]\n",
    "        nz = 100\n",
    "\n",
    "        with torch.no_grad():\n",
    "            captions = Variable(torch.from_numpy(captions))\n",
    "            cap_lens = Variable(torch.from_numpy(cap_lens))\n",
    "\n",
    "            captions = captions.cuda()\n",
    "            cap_lens = cap_lens.cuda()\n",
    "\n",
    "        for i in range(1):  # 16\n",
    "            with torch.no_grad():\n",
    "                noise = Variable(torch.FloatTensor(batch_size, nz))\n",
    "                noise = noise.cuda()\n",
    "            #######################################################\n",
    "            # (1) Extract text embeddings\n",
    "            ######################################################\n",
    "            hidden = text_encoder.init_hidden(batch_size)\n",
    "            # words_embs: batch_size x nef x seq_len\n",
    "            # sent_emb: batch_size x nef\n",
    "            words_embs, sent_emb = text_encoder(captions, cap_lens, hidden)\n",
    "            mask = (captions == 0)\n",
    "            #######################################################\n",
    "            # (2) Generate fake images\n",
    "            ######################################################\n",
    "            noise.data.normal_(0, 1)\n",
    "            fake_imgs, attention_maps, _, _ = netG(noise, sent_emb, words_embs, mask)\n",
    "            # G attention\n",
    "            cap_lens_np = cap_lens.cpu().data.numpy()\n",
    "            for j in range(batch_size):\n",
    "                save_name = '%s/%d_s_%d' % (save_dir, i, sorted_indices[j])\n",
    "                for k in range(len(fake_imgs)):\n",
    "                    im = fake_imgs[k][j].data.cpu().numpy()\n",
    "                    im = (im + 1.0) * 127.5\n",
    "                    im = im.astype(np.uint8)\n",
    "                    # print('im', im.shape)\n",
    "                    im = np.transpose(im, (1, 2, 0))\n",
    "                    # print('im', im.shape)\n",
    "                    im = Image.fromarray(im)\n",
    "                    fullpath = '%s_g%d.png' % (save_name, k)\n",
    "                    output.append(im)\n",
    "\n",
    "                for k in range(len(attention_maps)):\n",
    "                    if len(fake_imgs) > 1:\n",
    "                        im = fake_imgs[k + 1].detach().cpu()\n",
    "                    else:\n",
    "                        im = fake_imgs[0].detach().cpu()\n",
    "                    attn_maps = attention_maps[k]\n",
    "                    att_sze = attn_maps.size(2)\n",
    "                    img_set, sentences = \\\n",
    "                        build_super_images2(im[j].unsqueeze(0),\n",
    "                                            captions[j].unsqueeze(0),\n",
    "                                            [cap_lens_np[j]], dataset.ixtoword,\n",
    "                                            [attn_maps[j]], att_sze)\n",
    "                    if img_set is not None:\n",
    "                        im = Image.fromarray(img_set)\n",
    "#                         fullpath = '%s_a%d.png' % (save_name, k)\n",
    "                        output.append(im)\n",
    "    return output"
   ]
  },
  {
   "cell_type": "code",
   "execution_count": null,
   "metadata": {
    "scrolled": true
   },
   "outputs": [],
   "source": [
    "output = gen_img()"
   ]
  },
  {
   "cell_type": "code",
   "execution_count": null,
   "metadata": {},
   "outputs": [],
   "source": [
    "output[0]"
   ]
  }
 ],
 "metadata": {
  "kernelspec": {
   "display_name": "Python 3",
   "language": "python",
   "name": "python3"
  },
  "language_info": {
   "codemirror_mode": {
    "name": "ipython",
    "version": 3
   },
   "file_extension": ".py",
   "mimetype": "text/x-python",
   "name": "python",
   "nbconvert_exporter": "python",
   "pygments_lexer": "ipython3",
   "version": "3.7.7"
  }
 },
 "nbformat": 4,
 "nbformat_minor": 4
}
