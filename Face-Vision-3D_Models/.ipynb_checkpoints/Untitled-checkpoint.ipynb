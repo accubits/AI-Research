{
 "cells": [
  {
   "cell_type": "code",
   "execution_count": 88,
   "metadata": {},
   "outputs": [],
   "source": [
    "import uuid\n",
    "import glob"
   ]
  },
  {
   "cell_type": "code",
   "execution_count": 87,
   "metadata": {},
   "outputs": [
    {
     "name": "stdout",
     "output_type": "stream",
     "text": [
      "image-98749a26-fbea-11ea-9a39-97480ae2f5c8.jpg\n"
     ]
    }
   ],
   "source": [
    "print('image-{}.jpg'.format(uuid.uuid1()))"
   ]
  },
  {
   "cell_type": "code",
   "execution_count": 89,
   "metadata": {},
   "outputs": [
    {
     "data": {
      "text/plain": [
       "['./data/test/Classical-Men-Hair-Cut.jpg',\n",
       " './data/test/03f245cb652c103e1928b1b27028fadd--smith-glasses-too-faced.jpg',\n",
       " './data/test/20140420_011855_News1-Apr-25.jpg',\n",
       " './data/test/214451-human-being-woman-old-calm-face-senior-citizen-photocase-stock-photo-large.jpg',\n",
       " './data/test/268335b4bd3ebbb004fdf1860fc16950--stylish-sunglasses-oakley-sunglasses.jpg',\n",
       " './data/test/436764_detail.jpg',\n",
       " './data/test/5485140946_470e9cb16b_z.jpg',\n",
       " './data/test/6f2c946746a91b75dc4680085d168c2f.jpg',\n",
       " './data/test/800px_COLOURBOX2293166.png',\n",
       " './data/test/8845981467_6945cef32a_b.jpg',\n",
       " './data/test/bb3dd35e8f6f152883df5f9ae4c2f2a4--mens-glasses-frames-men-in-glasses.jpg',\n",
       " './data/test/cde20a36b3e7eb90c7b410f289e0c885.jpg',\n",
       " './data/test/cool_old_man.jpg',\n",
       " './data/test/Don-Draper-Sunglasses-by-Randolph-Engineering.jpg',\n",
       " './data/test/dt_141211_grief_crying_sad_woman_800x600.jpg',\n",
       " './data/test/f20938b641e8e7c5fb26198c609e03a6--men-in-glasses-john-hamm.jpg',\n",
       " './data/test/f2cf132b108aa03cd9e4f7aed7ad6e40--gary-oldman.jpg',\n",
       " './data/test/fcb3e8d83c00765723ab2d8334780ce6--beautiful-smile-beautiful-women.jpg',\n",
       " './data/test/hairstyle-for-round-faces-a-line-bob-with-side-parting.jpg',\n",
       " './data/test/Jon-Hamm.png',\n",
       " './data/test/lra1418.jpg',\n",
       " './data/test/m-ochki.jpg',\n",
       " './data/test/Man-Grandpa-Opi-Old-Man-Grandfather-Senior-Vital-2555188.jpg',\n",
       " './data/test/nsa-director-adm-michael-rogers.jpg.jpg',\n",
       " './data/test/old-83952_960_720.jpg',\n",
       " './data/test/Old_Woman_aboard_Ferry_-_Kanyakumari_-_India.jpg',\n",
       " './data/test/sandor-c266399a-e387-49b7-bf3e-de1bbc8bb618.jpg',\n",
       " './data/test/sport-sunglasses-lowres-4809.jpg',\n",
       " './data/test/SSR-Arab-woman.jpg']"
      ]
     },
     "execution_count": 89,
     "metadata": {},
     "output_type": "execute_result"
    }
   ],
   "source": [
    "paths = ''\n",
    "for path in glob.glob('./data/test/*'):\n",
    "    paths += '{}\\n'.format(path)"
   ]
  }
 ],
 "metadata": {
  "kernelspec": {
   "display_name": "Python 3",
   "language": "python",
   "name": "python3"
  },
  "language_info": {
   "codemirror_mode": {
    "name": "ipython",
    "version": 3
   },
   "file_extension": ".py",
   "mimetype": "text/x-python",
   "name": "python",
   "nbconvert_exporter": "python",
   "pygments_lexer": "ipython3",
   "version": "3.7.9"
  }
 },
 "nbformat": 4,
 "nbformat_minor": 4
}
